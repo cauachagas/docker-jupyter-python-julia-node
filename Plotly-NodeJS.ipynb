{
 "cells": [
  {
   "cell_type": "markdown",
   "id": "requested-independence",
   "metadata": {},
   "source": [
    "# Plotly examples"
   ]
  },
  {
   "cell_type": "markdown",
   "id": "irish-aside",
   "metadata": {},
   "source": [
    "## [line-and-scatter](https://plotly.com/javascript/line-and-scatter/)"
   ]
  },
  {
   "cell_type": "code",
   "execution_count": 1,
   "id": "harmful-entity",
   "metadata": {},
   "outputs": [],
   "source": [
    "var ds = require('dstools');"
   ]
  },
  {
   "cell_type": "code",
   "execution_count": 2,
   "id": "lovely-identity",
   "metadata": {},
   "outputs": [
    {
     "data": {
      "text/html": [
       "\n",
       "\t<div class=\"plotly-plot\">\n",
       "\t\t<div id=\"notebook-plot-1615585200265\"></div>\n",
       "\t\t<script>\n",
       "\t\tfunction plot1615585200265(){\n",
       "\t\t\tPlotly.plot('notebook-plot-1615585200265',[{\"x\":[1,2,3,4],\"y\":[10,15,13,17],\"mode\":\"markers\",\"type\":\"scatter\"},{\"x\":[2,3,4,5],\"y\":[16,5,11,9],\"mode\":\"lines\",\"type\":\"scatter\"},{\"x\":[1,2,3,4],\"y\":[12,9,15,12],\"mode\":\"lines+markers\",\"type\":\"scatter\"}], {});\n",
       "\t\t}if(window.Plotly){plot1615585200265();}else if(!window.require){\n",
       "\t\t\tvar head = document.head || document.getElementsByTagName('head')[0];\n",
       "\t\t\tvar s = document.createElement('script');\n",
       "\t\t\ts.src = 'https://cdn.plot.ly/plotly-latest.min.js';\n",
       "\t\t\ts.type = 'text/javascript';\n",
       "\t\t\ts.async = false;\n",
       "\t\t\ts.onreadystatechange = s.onload = plot1615585200265;\n",
       "\t\t\thead.appendChild(s);\n",
       "\t\t}else{\n",
       "\t\t\trequire(['https://cdn.plot.ly/plotly-latest.min.js'], function(Plotly){\n",
       "\t\t\t\twindow.Plotly = Plotly;\n",
       "\t\t\t\tplot1615585200265();\n",
       "\t\t\t});\n",
       "\t\t}\n",
       "\t\t</script>\n",
       "\t\t</div>\n",
       "\t"
      ]
     },
     "execution_count": 2,
     "metadata": {},
     "output_type": "execute_result"
    }
   ],
   "source": [
    "var trace1 = {\n",
    "  x: [1, 2, 3, 4],\n",
    "  y: [10, 15, 13, 17],\n",
    "  mode: 'markers',\n",
    "  type: 'scatter'\n",
    "};\n",
    "\n",
    "var trace2 = {\n",
    "  x: [2, 3, 4, 5],\n",
    "  y: [16, 5, 11, 9],\n",
    "  mode: 'lines',\n",
    "  type: 'scatter'\n",
    "};\n",
    "\n",
    "var trace3 = {\n",
    "  x: [1, 2, 3, 4],\n",
    "  y: [12, 9, 15, 12],\n",
    "  mode: 'lines+markers',\n",
    "  type: 'scatter'\n",
    "};\n",
    "\n",
    "var data = [trace1, trace2, trace3];\n",
    "\n",
    "var layout = {};\n",
    "\n",
    "ds.Collection().plotly(data, layout).show();"
   ]
  },
  {
   "cell_type": "code",
   "execution_count": 3,
   "id": "minor-gravity",
   "metadata": {},
   "outputs": [
    {
     "data": {
      "text/html": [
       "\n",
       "\t<div class=\"plotly-plot\">\n",
       "\t\t<div id=\"notebook-plot-1615585200288\"></div>\n",
       "\t\t<script>\n",
       "\t\tfunction plot1615585200288(){\n",
       "\t\t\tPlotly.plot('notebook-plot-1615585200288',[{\"x\":[1,2,3,4,5],\"y\":[1,6,3,6,1],\"mode\":\"markers+text\",\"type\":\"scatter\",\"name\":\"Team A\",\"text\":[\"A-1\",\"A-2\",\"A-3\",\"A-4\",\"A-5\"],\"textposition\":\"top center\",\"textfont\":{\"family\":\"Raleway, sans-serif\"},\"marker\":{\"size\":12}},{\"x\":[1.5,2.5,3.5,4.5,5.5],\"y\":[4,1,7,1,4],\"mode\":\"markers+text\",\"type\":\"scatter\",\"name\":\"Team B\",\"text\":[\"B-a\",\"B-b\",\"B-c\",\"B-d\",\"B-e\"],\"textfont\":{\"family\":\"Times New Roman\"},\"textposition\":\"bottom center\",\"marker\":{\"size\":12}},{\"x\":[1,2,3,4],\"y\":[12,9,15,12],\"mode\":\"lines+markers\",\"type\":\"scatter\"}], {\"xaxis\":{\"range\":[0.75,5.25]},\"yaxis\":{\"range\":[0,8]},\"legend\":{\"y\":0.5,\"yref\":\"paper\",\"font\":{\"family\":\"Arial, sans-serif\",\"size\":20,\"color\":\"grey\"}},\"title\":\"Data Labels on the Plot\"});\n",
       "\t\t}if(window.Plotly){plot1615585200288();}else if(!window.require){\n",
       "\t\t\tvar head = document.head || document.getElementsByTagName('head')[0];\n",
       "\t\t\tvar s = document.createElement('script');\n",
       "\t\t\ts.src = 'https://cdn.plot.ly/plotly-latest.min.js';\n",
       "\t\t\ts.type = 'text/javascript';\n",
       "\t\t\ts.async = false;\n",
       "\t\t\ts.onreadystatechange = s.onload = plot1615585200288;\n",
       "\t\t\thead.appendChild(s);\n",
       "\t\t}else{\n",
       "\t\t\trequire(['https://cdn.plot.ly/plotly-latest.min.js'], function(Plotly){\n",
       "\t\t\t\twindow.Plotly = Plotly;\n",
       "\t\t\t\tplot1615585200288();\n",
       "\t\t\t});\n",
       "\t\t}\n",
       "\t\t</script>\n",
       "\t\t</div>\n",
       "\t"
      ]
     },
     "execution_count": 3,
     "metadata": {},
     "output_type": "execute_result"
    }
   ],
   "source": [
    "var trace1 = {\n",
    "  x: [1, 2, 3, 4, 5],\n",
    "  y: [1, 6, 3, 6, 1],\n",
    "  mode: 'markers+text',\n",
    "  type: 'scatter',\n",
    "  name: 'Team A',\n",
    "  text: ['A-1', 'A-2', 'A-3', 'A-4', 'A-5'],\n",
    "  textposition: 'top center',\n",
    "  textfont: {\n",
    "    family:  'Raleway, sans-serif'\n",
    "  },\n",
    "  marker: { size: 12 }\n",
    "};\n",
    "\n",
    "var trace2 = {\n",
    "  x: [1.5, 2.5, 3.5, 4.5, 5.5],\n",
    "  y: [4, 1, 7, 1, 4],\n",
    "  mode: 'markers+text',\n",
    "  type: 'scatter',\n",
    "  name: 'Team B',\n",
    "  text: ['B-a', 'B-b', 'B-c', 'B-d', 'B-e'],\n",
    "  textfont : {\n",
    "    family:'Times New Roman'\n",
    "  },\n",
    "  textposition: 'bottom center',\n",
    "  marker: { size: 12 }\n",
    "};\n",
    "\n",
    "var data = [ trace1, trace2 ];\n",
    "\n",
    "var layout = {\n",
    "  xaxis: {\n",
    "    range: [ 0.75, 5.25 ]\n",
    "  },\n",
    "  yaxis: {\n",
    "    range: [0, 8]\n",
    "  },\n",
    "  legend: {\n",
    "    y: 0.5,\n",
    "    yref: 'paper',\n",
    "    font: {\n",
    "      family: 'Arial, sans-serif',\n",
    "      size: 20,\n",
    "      color: 'grey',\n",
    "    }\n",
    "  },\n",
    "  title:'Data Labels on the Plot'\n",
    "};\n",
    "\n",
    "\n",
    "var data = [trace1, trace2, trace3];\n",
    "\n",
    "ds.Collection().plotly(data, layout).show();"
   ]
  },
  {
   "cell_type": "markdown",
   "id": "saved-queen",
   "metadata": {},
   "source": [
    "## [Pie Charts in JavaScript](https://plotly.com/javascript/pie-charts)"
   ]
  },
  {
   "cell_type": "markdown",
   "id": "known-gazette",
   "metadata": {},
   "source": [
    "## [basic-pie-chart](https://plotly.com/javascript/pie-charts/#basic-pie-chart)"
   ]
  },
  {
   "cell_type": "code",
   "execution_count": 4,
   "id": "different-tuition",
   "metadata": {},
   "outputs": [
    {
     "data": {
      "text/html": [
       "\n",
       "\t<div class=\"plotly-plot\">\n",
       "\t\t<div id=\"notebook-plot-1615585200295\"></div>\n",
       "\t\t<script>\n",
       "\t\tfunction plot1615585200295(){\n",
       "\t\t\tPlotly.plot('notebook-plot-1615585200295',[{\"values\":[19,26,55],\"labels\":[\"Residential\",\"Non-Residential\",\"Utility\"],\"type\":\"pie\"}], {\"height\":400,\"width\":500});\n",
       "\t\t}if(window.Plotly){plot1615585200295();}else if(!window.require){\n",
       "\t\t\tvar head = document.head || document.getElementsByTagName('head')[0];\n",
       "\t\t\tvar s = document.createElement('script');\n",
       "\t\t\ts.src = 'https://cdn.plot.ly/plotly-latest.min.js';\n",
       "\t\t\ts.type = 'text/javascript';\n",
       "\t\t\ts.async = false;\n",
       "\t\t\ts.onreadystatechange = s.onload = plot1615585200295;\n",
       "\t\t\thead.appendChild(s);\n",
       "\t\t}else{\n",
       "\t\t\trequire(['https://cdn.plot.ly/plotly-latest.min.js'], function(Plotly){\n",
       "\t\t\t\twindow.Plotly = Plotly;\n",
       "\t\t\t\tplot1615585200295();\n",
       "\t\t\t});\n",
       "\t\t}\n",
       "\t\t</script>\n",
       "\t\t</div>\n",
       "\t"
      ]
     },
     "execution_count": 4,
     "metadata": {},
     "output_type": "execute_result"
    }
   ],
   "source": [
    "var data = [{\n",
    "  values: [19, 26, 55],\n",
    "  labels: ['Residential', 'Non-Residential', 'Utility'],\n",
    "  type: 'pie'\n",
    "}];\n",
    "\n",
    "var layout = {\n",
    "  height: 400,\n",
    "  width: 500\n",
    "};\n",
    "\n",
    "\n",
    "ds.Collection().plotly(data, layout).show();"
   ]
  },
  {
   "cell_type": "markdown",
   "id": "pressed-violation",
   "metadata": {},
   "source": [
    "### [Donut Chart](https://plotly.com/javascript/pie-charts/#donut-chart)"
   ]
  },
  {
   "cell_type": "code",
   "execution_count": 5,
   "id": "following-addiction",
   "metadata": {},
   "outputs": [
    {
     "data": {
      "text/html": [
       "\n",
       "\t<div class=\"plotly-plot\">\n",
       "\t\t<div id=\"notebook-plot-1615585200362\"></div>\n",
       "\t\t<script>\n",
       "\t\tfunction plot1615585200362(){\n",
       "\t\t\tPlotly.plot('notebook-plot-1615585200362',[{\"values\":[16,15,12,6,5,4,42],\"labels\":[\"US\",\"China\",\"European Union\",\"Russian Federation\",\"Brazil\",\"India\",\"Rest of World\"],\"domain\":{\"column\":0},\"name\":\"GHG Emissions\",\"hoverinfo\":\"label+percent+name\",\"hole\":0.4,\"type\":\"pie\"},{\"values\":[27,11,25,8,1,3,25],\"labels\":[\"US\",\"China\",\"European Union\",\"Russian Federation\",\"Brazil\",\"India\",\"Rest of World\"],\"text\":\"CO2\",\"textposition\":\"inside\",\"domain\":{\"column\":1},\"name\":\"CO2 Emissions\",\"hoverinfo\":\"label+percent+name\",\"hole\":0.4,\"type\":\"pie\"}], {\"title\":\"Global Emissions 1990-2011\",\"annotations\":[{\"font\":{\"size\":20},\"showarrow\":false,\"text\":\"GHG\",\"x\":0.17,\"y\":0.5},{\"font\":{\"size\":20},\"showarrow\":false,\"text\":\"CO2\",\"x\":0.82,\"y\":0.5}],\"height\":400,\"width\":600,\"showlegend\":false,\"grid\":{\"rows\":1,\"columns\":2}});\n",
       "\t\t}if(window.Plotly){plot1615585200362();}else if(!window.require){\n",
       "\t\t\tvar head = document.head || document.getElementsByTagName('head')[0];\n",
       "\t\t\tvar s = document.createElement('script');\n",
       "\t\t\ts.src = 'https://cdn.plot.ly/plotly-latest.min.js';\n",
       "\t\t\ts.type = 'text/javascript';\n",
       "\t\t\ts.async = false;\n",
       "\t\t\ts.onreadystatechange = s.onload = plot1615585200362;\n",
       "\t\t\thead.appendChild(s);\n",
       "\t\t}else{\n",
       "\t\t\trequire(['https://cdn.plot.ly/plotly-latest.min.js'], function(Plotly){\n",
       "\t\t\t\twindow.Plotly = Plotly;\n",
       "\t\t\t\tplot1615585200362();\n",
       "\t\t\t});\n",
       "\t\t}\n",
       "\t\t</script>\n",
       "\t\t</div>\n",
       "\t"
      ]
     },
     "execution_count": 5,
     "metadata": {},
     "output_type": "execute_result"
    }
   ],
   "source": [
    "var data = [{\n",
    "  values: [16, 15, 12, 6, 5, 4, 42],\n",
    "  labels: ['US', 'China', 'European Union', 'Russian Federation', 'Brazil', 'India', 'Rest of World' ],\n",
    "  domain: {column: 0},\n",
    "  name: 'GHG Emissions',\n",
    "  hoverinfo: 'label+percent+name',\n",
    "  hole: .4,\n",
    "  type: 'pie'\n",
    "},{\n",
    "  values: [27, 11, 25, 8, 1, 3, 25],\n",
    "  labels: ['US', 'China', 'European Union', 'Russian Federation', 'Brazil', 'India', 'Rest of World' ],\n",
    "  text: 'CO2',\n",
    "  textposition: 'inside',\n",
    "  domain: {column: 1},\n",
    "  name: 'CO2 Emissions',\n",
    "  hoverinfo: 'label+percent+name',\n",
    "  hole: .4,\n",
    "  type: 'pie'\n",
    "}];\n",
    "\n",
    "var layout = {\n",
    "  title: 'Global Emissions 1990-2011',\n",
    "  annotations: [\n",
    "    {\n",
    "      font: {\n",
    "        size: 20\n",
    "      },\n",
    "      showarrow: false,\n",
    "      text: 'GHG',\n",
    "      x: 0.17,\n",
    "      y: 0.5\n",
    "    },\n",
    "    {\n",
    "      font: {\n",
    "        size: 20\n",
    "      },\n",
    "      showarrow: false,\n",
    "      text: 'CO2',\n",
    "      x: 0.82,\n",
    "      y: 0.5\n",
    "    }\n",
    "  ],\n",
    "  height: 400,\n",
    "  width: 600,\n",
    "  showlegend: false,\n",
    "  grid: {rows: 1, columns: 2}\n",
    "};\n",
    "\n",
    "ds.Collection().plotly(data, layout).show();"
   ]
  },
  {
   "cell_type": "markdown",
   "id": "oriental-azerbaijan",
   "metadata": {},
   "source": [
    "## [bar-charts](https://plotly.com/javascript/bar-charts/)"
   ]
  },
  {
   "cell_type": "code",
   "execution_count": 6,
   "id": "restricted-festival",
   "metadata": {},
   "outputs": [
    {
     "data": {
      "text/html": [
       "\n",
       "\t<div class=\"plotly-plot\">\n",
       "\t\t<div id=\"notebook-plot-1615585200375\"></div>\n",
       "\t\t<script>\n",
       "\t\tfunction plot1615585200375(){\n",
       "\t\t\tPlotly.plot('notebook-plot-1615585200375',[{\"x\":[\"giraffes\",\"orangutans\",\"monkeys\"],\"y\":[20,14,23],\"name\":\"SF Zoo\",\"type\":\"bar\"},{\"x\":[\"giraffes\",\"orangutans\",\"monkeys\"],\"y\":[12,18,29],\"name\":\"LA Zoo\",\"type\":\"bar\"}], {\"barmode\":\"group\"});\n",
       "\t\t}if(window.Plotly){plot1615585200375();}else if(!window.require){\n",
       "\t\t\tvar head = document.head || document.getElementsByTagName('head')[0];\n",
       "\t\t\tvar s = document.createElement('script');\n",
       "\t\t\ts.src = 'https://cdn.plot.ly/plotly-latest.min.js';\n",
       "\t\t\ts.type = 'text/javascript';\n",
       "\t\t\ts.async = false;\n",
       "\t\t\ts.onreadystatechange = s.onload = plot1615585200375;\n",
       "\t\t\thead.appendChild(s);\n",
       "\t\t}else{\n",
       "\t\t\trequire(['https://cdn.plot.ly/plotly-latest.min.js'], function(Plotly){\n",
       "\t\t\t\twindow.Plotly = Plotly;\n",
       "\t\t\t\tplot1615585200375();\n",
       "\t\t\t});\n",
       "\t\t}\n",
       "\t\t</script>\n",
       "\t\t</div>\n",
       "\t"
      ]
     },
     "execution_count": 6,
     "metadata": {},
     "output_type": "execute_result"
    }
   ],
   "source": [
    "var trace1 = {\n",
    "  x: ['giraffes', 'orangutans', 'monkeys'],\n",
    "  y: [20, 14, 23],\n",
    "  name: 'SF Zoo',\n",
    "  type: 'bar'\n",
    "};\n",
    "\n",
    "var trace2 = {\n",
    "  x: ['giraffes', 'orangutans', 'monkeys'],\n",
    "  y: [12, 18, 29],\n",
    "  name: 'LA Zoo',\n",
    "  type: 'bar'\n",
    "};\n",
    "\n",
    "var data = [trace1, trace2];\n",
    "\n",
    "var layout = {barmode: 'group'};\n",
    "\n",
    "ds.Collection().plotly(data, layout).show();"
   ]
  }
 ],
 "metadata": {
  "kernelspec": {
   "display_name": "Javascript (Node.js)",
   "language": "javascript",
   "name": "javascript"
  },
  "language_info": {
   "file_extension": ".js",
   "mimetype": "application/javascript",
   "name": "javascript",
   "version": "12.19.0"
  }
 },
 "nbformat": 4,
 "nbformat_minor": 5
}
